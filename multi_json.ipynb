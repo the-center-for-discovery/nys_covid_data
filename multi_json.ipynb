{
 "metadata": {
  "language_info": {
   "codemirror_mode": {
    "name": "ipython",
    "version": 3
   },
   "file_extension": ".py",
   "mimetype": "text/x-python",
   "name": "python",
   "nbconvert_exporter": "python",
   "pygments_lexer": "ipython3",
   "version": "3.8.5-final"
  },
  "orig_nbformat": 2,
  "kernelspec": {
   "name": "python3",
   "display_name": "Python 3"
  }
 },
 "nbformat": 4,
 "nbformat_minor": 2,
 "cells": [
  {
   "cell_type": "code",
   "execution_count": 40,
   "metadata": {
    "tags": []
   },
   "outputs": [
    {
     "output_type": "stream",
     "name": "stdout",
     "text": [
      "1\n",
      "2\n",
      "3\n",
      "4\n",
      "5\n",
      "6\n",
      "7\n",
      "8\n"
     ]
    }
   ],
   "source": [
    "import csv\n",
    "import datetime \n",
    "import json\n",
    "import pandas as pd\n",
    "import urllib.request as request\n",
    " \n",
    "one_day = datetime.datetime.today() - datetime.timedelta(days=1)\n",
    "two_days = datetime.datetime.today() - datetime.timedelta(days=2)\n",
    "thr_days = datetime.datetime.today() - datetime.timedelta(days=3)\n",
    "for_days = datetime.datetime.today() - datetime.timedelta(days=4)\n",
    "fiv_days = datetime.datetime.today() - datetime.timedelta(days=5)\n",
    "six_days = datetime.datetime.today() - datetime.timedelta(days=6)\n",
    "sev_days = datetime.datetime.today() - datetime.timedelta(days=7)\n",
    "egt_days = datetime.datetime.today() - datetime.timedelta(days=8)\n",
    " \n",
    "one_day_str = one_day.strftime(\"%Y-%m-%dT00:00:00.000\")\n",
    "two_day_str = two_days.strftime(\"%Y-%m-%dT00:00:00.000\")\n",
    "thr_day_str = thr_days.strftime(\"%Y-%m-%dT00:00:00.000\")\n",
    "for_day_str = for_days.strftime(\"%Y-%m-%dT00:00:00.000\")\n",
    "fiv_day_str = fiv_days.strftime(\"%Y-%m-%dT00:00:00.000\")\n",
    "six_day_str = six_days.strftime(\"%Y-%m-%dT00:00:00.000\")\n",
    "sev_day_str = sev_days.strftime(\"%Y-%m-%dT00:00:00.000\")\n",
    "egt_day_str = egt_days.strftime(\"%Y-%m-%dT00:00:00.000\")\n",
    " \n",
    "url_one = 'https://health.data.ny.gov/resource/xdss-u53e.json?test_date=' + one_day_str\n",
    "url_two = 'https://health.data.ny.gov/resource/xdss-u53e.json?test_date=' + two_day_str\n",
    "url_thr = 'https://health.data.ny.gov/resource/xdss-u53e.json?test_date=' + thr_day_str\n",
    "url_for = 'https://health.data.ny.gov/resource/xdss-u53e.json?test_date=' + for_day_str\n",
    "url_fiv = 'https://health.data.ny.gov/resource/xdss-u53e.json?test_date=' + fiv_day_str\n",
    "url_six = 'https://health.data.ny.gov/resource/xdss-u53e.json?test_date=' + six_day_str\n",
    "url_sev = 'https://health.data.ny.gov/resource/xdss-u53e.json?test_date=' + sev_day_str\n",
    "url_egt = 'https://health.data.ny.gov/resource/xdss-u53e.json?test_date=' + egt_day_str\n",
    " \n",
    "url_lst = [url_one,url_two,url_thr, url_for, url_fiv, url_six, url_sev, url_egt]\n",
    " \n",
    "def write_json(data, filename='data.json'):\n",
    "    with open(filename,'w') as f: \n",
    "        json.dump(data, f, indent=4)\n",
    " \n",
    "index = 0\n",
    "for url in url_lst:\n",
    "    index +=1\n",
    "    with request.urlopen(url) as response:\n",
    "        source = response.read()\n",
    "        data = json.loads(source)\n",
    " \n",
    "        if len(data) == 0:\n",
    "            continue\n",
    "\n",
    "        with open (\"covid.json\", 'w') as outfile:\n",
    "            json.dump(data, outfile)\n",
    "\n",
    "        with open('covid.json') as json_data:\n",
    "            j = json.load(json_data)\n",
    "            d.append(j)\n",
    "            write_json(d)  \n",
    "        \n",
    "        print(index)    \n",
    "        fields = [\"Date\",\"County\", \"New Positives\", \"All Positives\", \"New Tests\", \"All Tests\"]\n",
    "        filename = f\"County Stats {index}.csv\"\n",
    "        with open(filename, 'w') as fw:\n",
    "            cf = csv.writer(fw, lineterminator='\\n')\n",
    "            # write the header\n",
    "            cf.writerow(fields)\n",
    "            for counties in data:   \n",
    "                date = counties['test_date']\n",
    "                cnty = counties['county']\n",
    "                new_pos = counties['new_positives']\n",
    "                cum_pos = counties['cumulative_number_of_positives']\n",
    "\n",
    "                new_tests = counties['total_number_of_tests']\n",
    "                cum_tests = counties['cumulative_number_of_tests']\n",
    "                cf.writerow([date,cnty, new_pos, cum_pos, new_tests, cum_tests])\n"
   ]
  }
 ]
}