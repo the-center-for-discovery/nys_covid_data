{
 "metadata": {
  "language_info": {
   "codemirror_mode": {
    "name": "ipython",
    "version": 3
   },
   "file_extension": ".py",
   "mimetype": "text/x-python",
   "name": "python",
   "nbconvert_exporter": "python",
   "pygments_lexer": "ipython3",
   "version": "3.7.6-final"
  },
  "orig_nbformat": 2,
  "kernelspec": {
   "name": "python3",
   "display_name": "Python 3",
   "language": "python"
  }
 },
 "nbformat": 4,
 "nbformat_minor": 2,
 "cells": [
  {
   "cell_type": "code",
   "execution_count": 5,
   "metadata": {},
   "outputs": [
    {
     "output_type": "stream",
     "name": "stdout",
     "text": [
      "County        Orange  Rockland  Sullivan    Ulster\nDate                                              \n2020-12-17  9.829915  5.942996  9.293680  6.417675\n2020-12-16  7.686676  6.732443  7.068966  5.509868\n2020-12-15  6.868812  6.323319  5.009276  5.424322\n2020-12-14  6.634146  6.964945  8.484848  5.789805\n2020-12-13  9.251472  6.825453  6.511628  5.019011\n                 0\nCounty            \nSullivan  7.273680\nUlster    5.632136\nOrange    8.054204\nRockland  6.557831\n"
     ]
    }
   ],
   "source": [
    "import pandas as pd\n",
    "from pandas import DataFrame\n",
    "fout=open(\"7day.csv\",\"a\")\n",
    "# now the rest:    \n",
    "i = 0\n",
    "for num in range(0,7):\n",
    "    i += 1\n",
    "    f = open(\"County Stats \"+str(i)+\".csv\")\n",
    "    f.__next__()  # skip the header\n",
    "    for line in f:\n",
    "        fout.write(line)\n",
    "\n",
    "df  = pd.read_csv(\"7day.csv\", names=[\"Date\", \"County\", \"New Positives\", \"All Positives\", \"New Tests\", \"All Tests\"])\n",
    "\n",
    "df.sort_values(by='Date', inplace=True, ascending=False)\n",
    "\n",
    "for col in df.select_dtypes(include=[object]):\n",
    "    df[col] = df[col].str.slice(0, 10)\n",
    "\n",
    "pct_pos = df[\"% Positive\"]= (df[\"New Positives\"] / df[\"New Tests\"] * 100)\n",
    "sul = df[df['County'].isin([\"Sullivan\", \"Ulster\", \"Orange\", \"Rockland\"])]\n",
    "\n",
    "sul = sul.pivot_table(index='Date',columns='County',values='% Positive',)\n",
    "\n",
    "sul = DataFrame(sul)\n",
    "\n",
    "sul.sort_values(by='Date', inplace=True, ascending=False)\n",
    "\n",
    "print(sul)\n",
    "\n",
    "mean = DataFrame(sul[[\"Sullivan\", \"Ulster\", \"Orange\", \"Rockland\"]].mean(),) #names = [\"County\", \"7 Day Avg\"])\n",
    "\n",
    "print(mean)"
   ]
  }
 ]
}