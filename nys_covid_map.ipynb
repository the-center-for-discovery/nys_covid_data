{
 "metadata": {
  "language_info": {
   "codemirror_mode": {
    "name": "ipython",
    "version": 3
   },
   "file_extension": ".py",
   "mimetype": "text/x-python",
   "name": "python",
   "nbconvert_exporter": "python",
   "pygments_lexer": "ipython3",
   "version": "3.7.6-final"
  },
  "orig_nbformat": 2,
  "kernelspec": {
   "name": "python3",
   "display_name": "Python 3",
   "language": "python"
  }
 },
 "nbformat": 4,
 "nbformat_minor": 2,
 "cells": [
  {
   "cell_type": "code",
   "execution_count": 11,
   "metadata": {},
   "outputs": [
    {
     "output_type": "stream",
     "name": "stdout",
     "text": [
      "-8441388.523665678 5185273.823934164\n-8416002.937554501 5232856.240408601\n-8345257.998529794 5190082.118944368\n-8271734.157660564 5071879.412357982\n-8352172.374929487 5255788.717128242\n-8240387.63545639 5035176.022435297\n-8323533.866318097 5119127.570423786\n-8267192.990353145 5153075.3944386905\n-8209339.627598729 5034888.996211602\n"
     ]
    },
    {
     "output_type": "display_data",
     "data": {
      "text/html": "\n    <div class=\"bk-root\">\n        <a href=\"https://bokeh.org\" target=\"_blank\" class=\"bk-logo bk-logo-small bk-logo-notebook\"></a>\n        <span id=\"3268\">Loading BokehJS ...</span>\n    </div>"
     },
     "metadata": {}
    },
    {
     "output_type": "display_data",
     "data": {
      "application/javascript": "\n(function(root) {\n  function now() {\n    return new Date();\n  }\n\n  var force = true;\n\n  if (typeof root._bokeh_onload_callbacks === \"undefined\" || force === true) {\n    root._bokeh_onload_callbacks = [];\n    root._bokeh_is_loading = undefined;\n  }\n\n  var JS_MIME_TYPE = 'application/javascript';\n  var HTML_MIME_TYPE = 'text/html';\n  var EXEC_MIME_TYPE = 'application/vnd.bokehjs_exec.v0+json';\n  var CLASS_NAME = 'output_bokeh rendered_html';\n\n  /**\n   * Render data to the DOM node\n   */\n  function render(props, node) {\n    var script = document.createElement(\"script\");\n    node.appendChild(script);\n  }\n\n  /**\n   * Handle when an output is cleared or removed\n   */\n  function handleClearOutput(event, handle) {\n    var cell = handle.cell;\n\n    var id = cell.output_area._bokeh_element_id;\n    var server_id = cell.output_area._bokeh_server_id;\n    // Clean up Bokeh references\n    if (id != null && id in Bokeh.index) {\n      Bokeh.index[id].model.document.clear();\n      delete Bokeh.index[id];\n    }\n\n    if (server_id !== undefined) {\n      // Clean up Bokeh references\n      var cmd = \"from bokeh.io.state import curstate; print(curstate().uuid_to_server['\" + server_id + \"'].get_sessions()[0].document.roots[0]._id)\";\n      cell.notebook.kernel.execute(cmd, {\n        iopub: {\n          output: function(msg) {\n            var id = msg.content.text.trim();\n            if (id in Bokeh.index) {\n              Bokeh.index[id].model.document.clear();\n              delete Bokeh.index[id];\n            }\n          }\n        }\n      });\n      // Destroy server and session\n      var cmd = \"import bokeh.io.notebook as ion; ion.destroy_server('\" + server_id + \"')\";\n      cell.notebook.kernel.execute(cmd);\n    }\n  }\n\n  /**\n   * Handle when a new output is added\n   */\n  function handleAddOutput(event, handle) {\n    var output_area = handle.output_area;\n    var output = handle.output;\n\n    // limit handleAddOutput to display_data with EXEC_MIME_TYPE content only\n    if ((output.output_type != \"display_data\") || (!output.data.hasOwnProperty(EXEC_MIME_TYPE))) {\n      return\n    }\n\n    var toinsert = output_area.element.find(\".\" + CLASS_NAME.split(' ')[0]);\n\n    if (output.metadata[EXEC_MIME_TYPE][\"id\"] !== undefined) {\n      toinsert[toinsert.length - 1].firstChild.textContent = output.data[JS_MIME_TYPE];\n      // store reference to embed id on output_area\n      output_area._bokeh_element_id = output.metadata[EXEC_MIME_TYPE][\"id\"];\n    }\n    if (output.metadata[EXEC_MIME_TYPE][\"server_id\"] !== undefined) {\n      var bk_div = document.createElement(\"div\");\n      bk_div.innerHTML = output.data[HTML_MIME_TYPE];\n      var script_attrs = bk_div.children[0].attributes;\n      for (var i = 0; i < script_attrs.length; i++) {\n        toinsert[toinsert.length - 1].firstChild.setAttribute(script_attrs[i].name, script_attrs[i].value);\n        toinsert[toinsert.length - 1].firstChild.textContent = bk_div.children[0].textContent\n      }\n      // store reference to server id on output_area\n      output_area._bokeh_server_id = output.metadata[EXEC_MIME_TYPE][\"server_id\"];\n    }\n  }\n\n  function register_renderer(events, OutputArea) {\n\n    function append_mime(data, metadata, element) {\n      // create a DOM node to render to\n      var toinsert = this.create_output_subarea(\n        metadata,\n        CLASS_NAME,\n        EXEC_MIME_TYPE\n      );\n      this.keyboard_manager.register_events(toinsert);\n      // Render to node\n      var props = {data: data, metadata: metadata[EXEC_MIME_TYPE]};\n      render(props, toinsert[toinsert.length - 1]);\n      element.append(toinsert);\n      return toinsert\n    }\n\n    /* Handle when an output is cleared or removed */\n    events.on('clear_output.CodeCell', handleClearOutput);\n    events.on('delete.Cell', handleClearOutput);\n\n    /* Handle when a new output is added */\n    events.on('output_added.OutputArea', handleAddOutput);\n\n    /**\n     * Register the mime type and append_mime function with output_area\n     */\n    OutputArea.prototype.register_mime_type(EXEC_MIME_TYPE, append_mime, {\n      /* Is output safe? */\n      safe: true,\n      /* Index of renderer in `output_area.display_order` */\n      index: 0\n    });\n  }\n\n  // register the mime type if in Jupyter Notebook environment and previously unregistered\n  if (root.Jupyter !== undefined) {\n    var events = require('base/js/events');\n    var OutputArea = require('notebook/js/outputarea').OutputArea;\n\n    if (OutputArea.prototype.mime_types().indexOf(EXEC_MIME_TYPE) == -1) {\n      register_renderer(events, OutputArea);\n    }\n  }\n\n  \n  if (typeof (root._bokeh_timeout) === \"undefined\" || force === true) {\n    root._bokeh_timeout = Date.now() + 5000;\n    root._bokeh_failed_load = false;\n  }\n\n  var NB_LOAD_WARNING = {'data': {'text/html':\n     \"<div style='background-color: #fdd'>\\n\"+\n     \"<p>\\n\"+\n     \"BokehJS does not appear to have successfully loaded. If loading BokehJS from CDN, this \\n\"+\n     \"may be due to a slow or bad network connection. Possible fixes:\\n\"+\n     \"</p>\\n\"+\n     \"<ul>\\n\"+\n     \"<li>re-rerun `output_notebook()` to attempt to load from CDN again, or</li>\\n\"+\n     \"<li>use INLINE resources instead, as so:</li>\\n\"+\n     \"</ul>\\n\"+\n     \"<code>\\n\"+\n     \"from bokeh.resources import INLINE\\n\"+\n     \"output_notebook(resources=INLINE)\\n\"+\n     \"</code>\\n\"+\n     \"</div>\"}};\n\n  function display_loaded() {\n    var el = document.getElementById(\"3268\");\n    if (el != null) {\n      el.textContent = \"BokehJS is loading...\";\n    }\n    if (root.Bokeh !== undefined) {\n      if (el != null) {\n        el.textContent = \"BokehJS \" + root.Bokeh.version + \" successfully loaded.\";\n      }\n    } else if (Date.now() < root._bokeh_timeout) {\n      setTimeout(display_loaded, 100)\n    }\n  }\n\n\n  function run_callbacks() {\n    try {\n      root._bokeh_onload_callbacks.forEach(function(callback) {\n        if (callback != null)\n          callback();\n      });\n    } finally {\n      delete root._bokeh_onload_callbacks\n    }\n    console.debug(\"Bokeh: all callbacks have finished\");\n  }\n\n  function load_libs(css_urls, js_urls, callback) {\n    if (css_urls == null) css_urls = [];\n    if (js_urls == null) js_urls = [];\n\n    root._bokeh_onload_callbacks.push(callback);\n    if (root._bokeh_is_loading > 0) {\n      console.debug(\"Bokeh: BokehJS is being loaded, scheduling callback at\", now());\n      return null;\n    }\n    if (js_urls == null || js_urls.length === 0) {\n      run_callbacks();\n      return null;\n    }\n    console.debug(\"Bokeh: BokehJS not loaded, scheduling load and callback at\", now());\n    root._bokeh_is_loading = css_urls.length + js_urls.length;\n\n    function on_load() {\n      root._bokeh_is_loading--;\n      if (root._bokeh_is_loading === 0) {\n        console.debug(\"Bokeh: all BokehJS libraries/stylesheets loaded\");\n        run_callbacks()\n      }\n    }\n\n    function on_error() {\n      console.error(\"failed to load \" + url);\n    }\n\n    for (var i = 0; i < css_urls.length; i++) {\n      var url = css_urls[i];\n      const element = document.createElement(\"link\");\n      element.onload = on_load;\n      element.onerror = on_error;\n      element.rel = \"stylesheet\";\n      element.type = \"text/css\";\n      element.href = url;\n      console.debug(\"Bokeh: injecting link tag for BokehJS stylesheet: \", url);\n      document.body.appendChild(element);\n    }\n\n    const hashes = {\"https://cdn.bokeh.org/bokeh/release/bokeh-2.2.3.min.js\": \"T2yuo9Oe71Cz/I4X9Ac5+gpEa5a8PpJCDlqKYO0CfAuEszu1JrXLl8YugMqYe3sM\", \"https://cdn.bokeh.org/bokeh/release/bokeh-widgets-2.2.3.min.js\": \"98GDGJ0kOMCUMUePhksaQ/GYgB3+NH9h996V88sh3aOiUNX3N+fLXAtry6xctSZ6\", \"https://cdn.bokeh.org/bokeh/release/bokeh-tables-2.2.3.min.js\": \"89bArO+nlbP3sgakeHjCo1JYxYR5wufVgA3IbUvDY+K7w4zyxJqssu7wVnfeKCq8\"};\n\n    for (var i = 0; i < js_urls.length; i++) {\n      var url = js_urls[i];\n      var element = document.createElement('script');\n      element.onload = on_load;\n      element.onerror = on_error;\n      element.async = false;\n      element.src = url;\n      if (url in hashes) {\n        element.crossOrigin = \"anonymous\";\n        element.integrity = \"sha384-\" + hashes[url];\n      }\n      console.debug(\"Bokeh: injecting script tag for BokehJS library: \", url);\n      document.head.appendChild(element);\n    }\n  };\n\n  function inject_raw_css(css) {\n    const element = document.createElement(\"style\");\n    element.appendChild(document.createTextNode(css));\n    document.body.appendChild(element);\n  }\n\n  \n  var js_urls = [\"https://cdn.bokeh.org/bokeh/release/bokeh-2.2.3.min.js\", \"https://cdn.bokeh.org/bokeh/release/bokeh-widgets-2.2.3.min.js\", \"https://cdn.bokeh.org/bokeh/release/bokeh-tables-2.2.3.min.js\"];\n  var css_urls = [];\n  \n\n  var inline_js = [\n    function(Bokeh) {\n      Bokeh.set_log_level(\"info\");\n    },\n    function(Bokeh) {\n    \n    \n    }\n  ];\n\n  function run_inline_js() {\n    \n    if (root.Bokeh !== undefined || force === true) {\n      \n    for (var i = 0; i < inline_js.length; i++) {\n      inline_js[i].call(root, root.Bokeh);\n    }\n    if (force === true) {\n        display_loaded();\n      }} else if (Date.now() < root._bokeh_timeout) {\n      setTimeout(run_inline_js, 100);\n    } else if (!root._bokeh_failed_load) {\n      console.log(\"Bokeh: BokehJS failed to load within specified timeout.\");\n      root._bokeh_failed_load = true;\n    } else if (force !== true) {\n      var cell = $(document.getElementById(\"3268\")).parents('.cell').data().cell;\n      cell.output_area.append_execute_result(NB_LOAD_WARNING)\n    }\n\n  }\n\n  if (root._bokeh_is_loading === 0) {\n    console.debug(\"Bokeh: BokehJS loaded, going straight to plotting\");\n    run_inline_js();\n  } else {\n    load_libs(css_urls, js_urls, function() {\n      console.debug(\"Bokeh: BokehJS plotting callback run at\", now());\n      run_inline_js();\n    });\n  }\n}(window));",
      "application/vnd.bokehjs_load.v0+json": "\n(function(root) {\n  function now() {\n    return new Date();\n  }\n\n  var force = true;\n\n  if (typeof root._bokeh_onload_callbacks === \"undefined\" || force === true) {\n    root._bokeh_onload_callbacks = [];\n    root._bokeh_is_loading = undefined;\n  }\n\n  \n\n  \n  if (typeof (root._bokeh_timeout) === \"undefined\" || force === true) {\n    root._bokeh_timeout = Date.now() + 5000;\n    root._bokeh_failed_load = false;\n  }\n\n  var NB_LOAD_WARNING = {'data': {'text/html':\n     \"<div style='background-color: #fdd'>\\n\"+\n     \"<p>\\n\"+\n     \"BokehJS does not appear to have successfully loaded. If loading BokehJS from CDN, this \\n\"+\n     \"may be due to a slow or bad network connection. Possible fixes:\\n\"+\n     \"</p>\\n\"+\n     \"<ul>\\n\"+\n     \"<li>re-rerun `output_notebook()` to attempt to load from CDN again, or</li>\\n\"+\n     \"<li>use INLINE resources instead, as so:</li>\\n\"+\n     \"</ul>\\n\"+\n     \"<code>\\n\"+\n     \"from bokeh.resources import INLINE\\n\"+\n     \"output_notebook(resources=INLINE)\\n\"+\n     \"</code>\\n\"+\n     \"</div>\"}};\n\n  function display_loaded() {\n    var el = document.getElementById(\"3268\");\n    if (el != null) {\n      el.textContent = \"BokehJS is loading...\";\n    }\n    if (root.Bokeh !== undefined) {\n      if (el != null) {\n        el.textContent = \"BokehJS \" + root.Bokeh.version + \" successfully loaded.\";\n      }\n    } else if (Date.now() < root._bokeh_timeout) {\n      setTimeout(display_loaded, 100)\n    }\n  }\n\n\n  function run_callbacks() {\n    try {\n      root._bokeh_onload_callbacks.forEach(function(callback) {\n        if (callback != null)\n          callback();\n      });\n    } finally {\n      delete root._bokeh_onload_callbacks\n    }\n    console.debug(\"Bokeh: all callbacks have finished\");\n  }\n\n  function load_libs(css_urls, js_urls, callback) {\n    if (css_urls == null) css_urls = [];\n    if (js_urls == null) js_urls = [];\n\n    root._bokeh_onload_callbacks.push(callback);\n    if (root._bokeh_is_loading > 0) {\n      console.debug(\"Bokeh: BokehJS is being loaded, scheduling callback at\", now());\n      return null;\n    }\n    if (js_urls == null || js_urls.length === 0) {\n      run_callbacks();\n      return null;\n    }\n    console.debug(\"Bokeh: BokehJS not loaded, scheduling load and callback at\", now());\n    root._bokeh_is_loading = css_urls.length + js_urls.length;\n\n    function on_load() {\n      root._bokeh_is_loading--;\n      if (root._bokeh_is_loading === 0) {\n        console.debug(\"Bokeh: all BokehJS libraries/stylesheets loaded\");\n        run_callbacks()\n      }\n    }\n\n    function on_error() {\n      console.error(\"failed to load \" + url);\n    }\n\n    for (var i = 0; i < css_urls.length; i++) {\n      var url = css_urls[i];\n      const element = document.createElement(\"link\");\n      element.onload = on_load;\n      element.onerror = on_error;\n      element.rel = \"stylesheet\";\n      element.type = \"text/css\";\n      element.href = url;\n      console.debug(\"Bokeh: injecting link tag for BokehJS stylesheet: \", url);\n      document.body.appendChild(element);\n    }\n\n    const hashes = {\"https://cdn.bokeh.org/bokeh/release/bokeh-2.2.3.min.js\": \"T2yuo9Oe71Cz/I4X9Ac5+gpEa5a8PpJCDlqKYO0CfAuEszu1JrXLl8YugMqYe3sM\", \"https://cdn.bokeh.org/bokeh/release/bokeh-widgets-2.2.3.min.js\": \"98GDGJ0kOMCUMUePhksaQ/GYgB3+NH9h996V88sh3aOiUNX3N+fLXAtry6xctSZ6\", \"https://cdn.bokeh.org/bokeh/release/bokeh-tables-2.2.3.min.js\": \"89bArO+nlbP3sgakeHjCo1JYxYR5wufVgA3IbUvDY+K7w4zyxJqssu7wVnfeKCq8\"};\n\n    for (var i = 0; i < js_urls.length; i++) {\n      var url = js_urls[i];\n      var element = document.createElement('script');\n      element.onload = on_load;\n      element.onerror = on_error;\n      element.async = false;\n      element.src = url;\n      if (url in hashes) {\n        element.crossOrigin = \"anonymous\";\n        element.integrity = \"sha384-\" + hashes[url];\n      }\n      console.debug(\"Bokeh: injecting script tag for BokehJS library: \", url);\n      document.head.appendChild(element);\n    }\n  };\n\n  function inject_raw_css(css) {\n    const element = document.createElement(\"style\");\n    element.appendChild(document.createTextNode(css));\n    document.body.appendChild(element);\n  }\n\n  \n  var js_urls = [\"https://cdn.bokeh.org/bokeh/release/bokeh-2.2.3.min.js\", \"https://cdn.bokeh.org/bokeh/release/bokeh-widgets-2.2.3.min.js\", \"https://cdn.bokeh.org/bokeh/release/bokeh-tables-2.2.3.min.js\"];\n  var css_urls = [];\n  \n\n  var inline_js = [\n    function(Bokeh) {\n      Bokeh.set_log_level(\"info\");\n    },\n    function(Bokeh) {\n    \n    \n    }\n  ];\n\n  function run_inline_js() {\n    \n    if (root.Bokeh !== undefined || force === true) {\n      \n    for (var i = 0; i < inline_js.length; i++) {\n      inline_js[i].call(root, root.Bokeh);\n    }\n    if (force === true) {\n        display_loaded();\n      }} else if (Date.now() < root._bokeh_timeout) {\n      setTimeout(run_inline_js, 100);\n    } else if (!root._bokeh_failed_load) {\n      console.log(\"Bokeh: BokehJS failed to load within specified timeout.\");\n      root._bokeh_failed_load = true;\n    } else if (force !== true) {\n      var cell = $(document.getElementById(\"3268\")).parents('.cell').data().cell;\n      cell.output_area.append_execute_result(NB_LOAD_WARNING)\n    }\n\n  }\n\n  if (root._bokeh_is_loading === 0) {\n    console.debug(\"Bokeh: BokehJS loaded, going straight to plotting\");\n    run_inline_js();\n  } else {\n    load_libs(css_urls, js_urls, function() {\n      console.debug(\"Bokeh: BokehJS plotting callback run at\", now());\n      run_inline_js();\n    });\n  }\n}(window));"
     },
     "metadata": {}
    },
    {
     "output_type": "display_data",
     "data": {
      "text/html": "\n\n\n\n\n\n  <div class=\"bk-root\" id=\"738ec88e-4a2b-459f-854c-2d67ea28b846\" data-root-id=\"3215\"></div>\n"
     },
     "metadata": {}
    },
    {
     "output_type": "display_data",
     "data": {
      "application/javascript": "(function(root) {\n  function embed_document(root) {\n    \n  var docs_json = {\"6435f93b-f9fa-4cab-bc46-10c0dc0ee590\":{\"roots\":{\"references\":[{\"attributes\":{\"below\":[{\"id\":\"3226\"}],\"center\":[{\"id\":\"3233\"},{\"id\":\"3241\"}],\"left\":[{\"id\":\"3234\"}],\"plot_height\":900,\"plot_width\":1600,\"renderers\":[{\"id\":\"3258\"},{\"id\":\"3263\"}],\"right\":[{\"id\":\"3266\"}],\"title\":{\"id\":\"3216\"},\"toolbar\":{\"id\":\"3250\"},\"x_range\":{\"id\":\"3218\"},\"x_scale\":{\"id\":\"3222\"},\"y_range\":{\"id\":\"3220\"},\"y_scale\":{\"id\":\"3224\"}},\"id\":\"3215\",\"subtype\":\"Figure\",\"type\":\"Plot\"},{\"attributes\":{\"axis\":{\"id\":\"3234\"},\"dimension\":1,\"ticker\":null},\"id\":\"3241\",\"type\":\"Grid\"},{\"attributes\":{\"source\":{\"id\":\"3213\"}},\"id\":\"3264\",\"type\":\"CDSView\"},{\"attributes\":{\"dimension\":\"lat\"},\"id\":\"3237\",\"type\":\"MercatorTickFormatter\"},{\"attributes\":{\"high\":9.82991495747874,\"low\":3.7946428571428568,\"palette\":[\"#FFCCBB\",\"#FF6C5C\",\"#F85C4D\",\"#E84C3D\",\"#D83C2D\",\"#BF0000\"]},\"id\":\"3214\",\"type\":\"LinearColorMapper\"},{\"attributes\":{},\"id\":\"3355\",\"type\":\"BasicTicker\"},{\"attributes\":{\"axis\":{\"id\":\"3226\"},\"ticker\":null},\"id\":\"3233\",\"type\":\"Grid\"},{\"attributes\":{\"bottom_units\":\"screen\",\"fill_alpha\":0.5,\"fill_color\":\"lightgrey\",\"left_units\":\"screen\",\"level\":\"overlay\",\"line_alpha\":1.0,\"line_color\":\"black\",\"line_dash\":[4,4],\"line_width\":2,\"right_units\":\"screen\",\"top_units\":\"screen\"},\"id\":\"3248\",\"type\":\"BoxAnnotation\"},{\"attributes\":{\"end\":-7948900.2442,\"start\":-9138712.3831},\"id\":\"3218\",\"type\":\"Range1d\"},{\"attributes\":{\"data_source\":{\"id\":\"3213\"},\"glyph\":{\"id\":\"3261\"},\"hover_glyph\":null,\"muted_glyph\":null,\"nonselection_glyph\":{\"id\":\"3262\"},\"selection_glyph\":null,\"view\":{\"id\":\"3264\"}},\"id\":\"3263\",\"type\":\"GlyphRenderer\"},{\"attributes\":{\"format\":\"0.0[0000]\"},\"id\":\"3265\",\"type\":\"NumeralTickFormatter\"},{\"attributes\":{\"axis_label\":\"Latitude\",\"formatter\":{\"id\":\"3237\"},\"ticker\":{\"id\":\"3235\"}},\"id\":\"3234\",\"type\":\"MercatorAxis\"},{\"attributes\":{\"active_drag\":\"auto\",\"active_inspect\":\"auto\",\"active_multi\":null,\"active_scroll\":\"auto\",\"active_tap\":\"auto\",\"tools\":[{\"id\":\"3242\"},{\"id\":\"3243\"},{\"id\":\"3244\"},{\"id\":\"3245\"},{\"id\":\"3246\"},{\"id\":\"3247\"},{\"id\":\"3249\"}]},\"id\":\"3250\",\"type\":\"Toolbar\"},{\"attributes\":{\"attribution\":\"&copy; <a href=\\\"https://www.openstreetmap.org/copyright\\\">OpenStreetMap</a> contributors,&copy; <a href=\\\"https://cartodb.com/attributions\\\">CartoDB</a>\",\"url\":\"https://tiles.basemaps.cartocdn.com/light_all/{z}/{x}/{y}@2x.png\"},\"id\":\"3212\",\"type\":\"WMTSTileSource\"},{\"attributes\":{\"data\":{\"All_Positives\":[6893,945,547,20717,969,24983,2601,4736,61827],\"All_Tests\":[256063,51733,41596,347056,56649,391977,57139,185837,1290928],\"County\":[\"Broome, NY\",\"Chenango, NY\",\"Delaware, NY\",\"Orange, NY\",\"Otsego, NY\",\"Rockland, NY\",\"Sullivan, NY\",\"Ulster, NY\",\"Westchester, NY\"],\"New_Positives\":[129,17,9,393,11,196,50,122,716],\"New_Tests\":[1941,448,190,3998,258,3298,538,1901,12949],\"Positive\":{\"__ndarray__\":\"unSfa5CVGkC2bdu2bVsOQCmvobyG8hJAM6oBneqoI0BD3pA35A0RQPcE4K2gxRdAH5uRQ12WIkA555f4sqsZQIZQ+/gWHhZA\",\"dtype\":\"float64\",\"order\":\"little\",\"shape\":[9]},\"co-ordinates\":[\"(42.52092361450195, -74.30384826660156)\",\"(42.1686897277832, -75.87785339355469)\",\"(41.76803207397461, -75.05734252929688)\",\"(42.305580139160156, -77.04928588867188)\",\"(42.70102310180664, -74.92680358886719)\",\"(41.94535827636719, -74.9128189086914)\",\"(43.054195404052734, -75.84769439697266)\",\"(41.956634521484375, -73.96853637695312)\",\"(40.840030670166016, -73.84453582763672)\"],\"coordinates\":[[42.1619773,-75.8302833],[42.478023799999995,-75.6022407],[42.1939865,-74.9667281],[41.4024096,-74.3062522],[42.6297762,-75.028841],[41.1546276,-74.02466159999999],[41.71999279999999,-74.77157690000001],[41.9472124,-74.26545820000001],[41.152686200000005,-73.74575259999999]],\"index\":[3,8,12,35,38,43,52,55,59],\"latitude\":{\"__ndarray__\":\"4RgTrLsURUDV2kXiLz1FQMmutIzUGEVAWMxjKIKzREBLZquBnFBFQIyHUtbKk0RAf61cuSjcREDOLoRBPvlEQHjGrTiLk0RA\",\"dtype\":\"float64\",\"order\":\"little\",\"shape\":[9]},\"longitude\":{\"__ndarray__\":\"j/qQXCP1UsB9tJMci+ZSwPNnid/evVLA/9TTopmTUsAs8uuH2MFSwONdPw6UgVLAWPYThGGxUsAg3WNE/ZBSwAv6HGm6b1LA\",\"dtype\":\"float64\",\"order\":\"little\",\"shape\":[9]},\"mercator\":[[-8441388.523665678,5185273.823934164],[-8416002.937554501,5232856.240408601],[-8345257.998529794,5190082.118944368],[-8271734.157660564,5071879.412357982],[-8352172.374929487,5255788.717128242],[-8240387.63545639,5035176.022435297],[-8323533.866318097,5119127.570423786],[-8267192.990353145,5153075.3944386905],[-8209339.627598729,5034888.996211602]],\"mercator_x\":{\"__ndarray__\":\"ht7BkMUZYMFMcgBeYA1gwYLp53+q1V/BVhwXit2NX8E/2P4Xa9xfwUdRq+hAb1/BdsFxd3PAX8Eo8mE/bolfwdyTKujuUF/B\",\"dtype\":\"float64\",\"order\":\"little\",\"shape\":[9]},\"mercator_y\":{\"__ndarray__\":\"XFa7dL7HU0HC2mIPNvZTQdfInIdwzFNBvBJk2gFZU0HbbeUtmwxUQXWUbwEqNVNBxNKB5CWHU0HHez7ZTKhTQU/uwT/iNFNB\",\"dtype\":\"float64\",\"order\":\"little\",\"shape\":[9]}},\"selected\":{\"id\":\"3358\"},\"selection_policy\":{\"id\":\"3357\"}},\"id\":\"3213\",\"type\":\"ColumnDataSource\"},{\"attributes\":{\"dimension\":\"lat\"},\"id\":\"3235\",\"type\":\"MercatorTicker\"},{\"attributes\":{\"dimension\":\"lon\"},\"id\":\"3227\",\"type\":\"MercatorTicker\"},{\"attributes\":{\"callback\":null,\"tooltips\":[[\"County\",\"@County\"],[\"Positive (%)\",\"@Positive\"],[\"New_Positives\",\"@New_Positives\"]]},\"id\":\"3249\",\"type\":\"HoverTool\"},{\"attributes\":{\"dimension\":\"lon\"},\"id\":\"3229\",\"type\":\"MercatorTickFormatter\"},{\"attributes\":{\"fill_alpha\":{\"value\":0.1},\"fill_color\":{\"field\":\"Positive\",\"transform\":{\"id\":\"3214\"}},\"line_alpha\":{\"value\":0.1},\"line_color\":{\"field\":\"Positive\",\"transform\":{\"id\":\"3214\"}},\"size\":{\"units\":\"screen\",\"value\":50},\"x\":{\"field\":\"mercator_x\"},\"y\":{\"field\":\"mercator_y\"}},\"id\":\"3262\",\"type\":\"Circle\"},{\"attributes\":{},\"id\":\"3245\",\"type\":\"SaveTool\"},{\"attributes\":{},\"id\":\"3357\",\"type\":\"UnionRenderers\"},{\"attributes\":{\"text\":\"COVID % Posivity Rates - Sullivan County Area\"},\"id\":\"3216\",\"type\":\"Title\"},{\"attributes\":{},\"id\":\"3358\",\"type\":\"Selection\"},{\"attributes\":{},\"id\":\"3224\",\"type\":\"LinearScale\"},{\"attributes\":{},\"id\":\"3242\",\"type\":\"PanTool\"},{\"attributes\":{\"fill_alpha\":{\"value\":0.8},\"fill_color\":{\"field\":\"Positive\",\"transform\":{\"id\":\"3214\"}},\"line_color\":{\"field\":\"Positive\",\"transform\":{\"id\":\"3214\"}},\"size\":{\"units\":\"screen\",\"value\":50},\"x\":{\"field\":\"mercator_x\"},\"y\":{\"field\":\"mercator_y\"}},\"id\":\"3261\",\"type\":\"Circle\"},{\"attributes\":{},\"id\":\"3247\",\"type\":\"HelpTool\"},{\"attributes\":{\"axis_label\":\"Longitude\",\"formatter\":{\"id\":\"3229\"},\"ticker\":{\"id\":\"3227\"}},\"id\":\"3226\",\"type\":\"MercatorAxis\"},{\"attributes\":{},\"id\":\"3243\",\"type\":\"WheelZoomTool\"},{\"attributes\":{\"tile_source\":{\"id\":\"3212\"}},\"id\":\"3258\",\"type\":\"TileRenderer\"},{\"attributes\":{\"overlay\":{\"id\":\"3248\"}},\"id\":\"3244\",\"type\":\"BoxZoomTool\"},{\"attributes\":{},\"id\":\"3222\",\"type\":\"LinearScale\"},{\"attributes\":{\"end\":5538604.7505,\"start\":4926497.028},\"id\":\"3220\",\"type\":\"Range1d\"},{\"attributes\":{\"color_mapper\":{\"id\":\"3214\"},\"formatter\":{\"id\":\"3265\"},\"label_standoff\":13,\"location\":[0,0],\"ticker\":{\"id\":\"3355\"},\"width\":8},\"id\":\"3266\",\"type\":\"ColorBar\"},{\"attributes\":{},\"id\":\"3246\",\"type\":\"ResetTool\"}],\"root_ids\":[\"3215\"]},\"title\":\"Bokeh Application\",\"version\":\"2.2.3\"}};\n  var render_items = [{\"docid\":\"6435f93b-f9fa-4cab-bc46-10c0dc0ee590\",\"root_ids\":[\"3215\"],\"roots\":{\"3215\":\"738ec88e-4a2b-459f-854c-2d67ea28b846\"}}];\n  root.Bokeh.embed.embed_items_notebook(docs_json, render_items);\n\n  }\n  if (root.Bokeh !== undefined) {\n    embed_document(root);\n  } else {\n    var attempts = 0;\n    var timer = setInterval(function(root) {\n      if (root.Bokeh !== undefined) {\n        clearInterval(timer);\n        embed_document(root);\n      } else {\n        attempts++;\n        if (attempts > 100) {\n          clearInterval(timer);\n          console.log(\"Bokeh: ERROR: Unable to run BokehJS code because BokehJS library is missing\");\n        }\n      }\n    }, 10, root)\n  }\n})(window);",
      "application/vnd.bokehjs_exec.v0+json": ""
     },
     "metadata": {
      "application/vnd.bokehjs_exec.v0+json": {
       "id": "3215"
      }
     }
    }
   ],
   "source": [
    "import numpy as np\n",
    "import pandas as pd\n",
    "from bokeh.io import output_notebook, show, output_file\n",
    "from bokeh.plotting import figure, ColumnDataSource\n",
    "from bokeh.tile_providers import get_provider, Vendors\n",
    "from bokeh.palettes import Reds\n",
    "from bokeh.transform import linear_cmap,factor_cmap\n",
    "from bokeh.layouts import row, column\n",
    "from bokeh.models import GeoJSONDataSource, LinearColorMapper, ColorBar, NumeralTickFormatter\n",
    "\n",
    "df_stats = pd.read_csv('base_files/County Stats.csv')\n",
    "df_coords = pd.read_csv('base_files/coords.csv')\n",
    "\n",
    "df_stats['County'] = df_stats['County'].astype(str) + \", NY\"\n",
    "pct_pos = df_stats[\"Positive\"]= (df_stats[\"New_Positives\"] / df_stats[\"New_Tests\"] * 100)\n",
    "\n",
    "df = pd.merge(df_stats, df_coords, left_on='County', right_on='County')\n",
    "\n",
    "df.head()\n",
    "df = df[df['County'].isin([\"Delaware, NY\",\"Sullivan, NY\", \"Ulster, NY\", \"Orange, NY\", \"Rockland, NY\", \"Broome, NY\", \"Chenango, NY\", \"Otsego, NY\", \"Westchester, NY\" ])]\n",
    "\n",
    "# Define function to switch from lat/long to mercator coordinates\n",
    "def x_coord(x, y):\n",
    "    \n",
    "    lat = x\n",
    "    lon = y\n",
    "    \n",
    "    r_major = 6378137.000\n",
    "    x = r_major * np.radians(lon)\n",
    "    scale = x/lon\n",
    "    y = 180.0/np.pi * np.log(np.tan(np.pi/4.0 + \n",
    "        lat * (np.pi/180.0)/2.0)) * scale\n",
    "\n",
    "    print(x,y)\n",
    "    return (x, y)\n",
    "\n",
    "# Define coord as tuple (lat,long)\n",
    "df['coordinates'] = list(zip(df['latitude'], df['longitude']))\n",
    "\n",
    "# Obtain list of mercator coordinates\n",
    "mercators = [x_coord(x, y) for x, y in df['coordinates']]\n",
    "\n",
    "# Create mercator column in our df\n",
    "df['mercator'] = mercators\n",
    "\n",
    "# Split that column out into two separate cols - mercator_x and mercator_y\n",
    "df[['mercator_x', 'mercator_y']] = df['mercator'].apply(pd.Series)\n",
    "\n",
    "# Drop 'geometry' column \n",
    "df = df.drop(columns=['geometry'])\n",
    "\n",
    "# Select tile set to use\n",
    "chosentile = get_provider(Vendors.CARTODBPOSITRON_RETINA)\n",
    "\n",
    "myReds = ['#FFCCBB', '#FF6C5C', '#F85C4D', '#E84C3D', '#D83C2D', '#BF0000']\n",
    "\n",
    "# Choose palette\n",
    "palette = myReds\n",
    "\n",
    "# Reds[3].reverse()\n",
    "\n",
    "# Tell Bokeh to use df as the source of the data\n",
    "source = ColumnDataSource(data=df)\n",
    "\n",
    "# Define color mapper - which column will define the colour of the data points\n",
    "color_mapper = linear_cmap(field_name = 'Positive', palette = palette, low = df['Positive'].min(), high = df['Positive'].max())\n",
    "\n",
    "# Set tooltips - these appear when we hover over a data point in our map, very nifty and very useful\n",
    "nan_color = '#d9d9d9'\n",
    "tooltips = [(\"County\",\"@County\"),(\"Positive (%)\",\"@Positive\"),(\"New_Positives\", \"@New_Positives\")]\n",
    "\n",
    "\n",
    "# Create figure\n",
    "p = figure(title = 'COVID % Posivity Rates - Sullivan County Area', x_axis_type=\"mercator\", y_axis_type=\"mercator\", \n",
    "           x_axis_label = 'Longitude', y_axis_label = 'Latitude', tooltips = tooltips, plot_width=1600, plot_height=900,\n",
    "           x_range=(-9138712.3831, -7948900.2442), y_range=(4926497.0280, 5538604.7505), )\n",
    "           \n",
    "\n",
    "# Add map tile\n",
    "p.add_tile(chosentile)\n",
    "\n",
    "\n",
    "# Add points using mercator coordinates\n",
    "p.circle(x = 'mercator_x', y = 'mercator_y', color = color_mapper, source=source, size=50, fill_alpha = 0.8)\n",
    "\n",
    "#Defines color bar\n",
    "color_bar = ColorBar(color_mapper=color_mapper['transform'], \n",
    "                     formatter = NumeralTickFormatter(format='0.0[0000]'), \n",
    "                     label_standoff = 13, width=8, location=(0,0))\n",
    "\n",
    "# Set color_bar location\n",
    "p.add_layout(color_bar, 'right')\n",
    "\n",
    "# Display in notebook\n",
    "output_notebook()\n",
    "\n",
    "# Save as HTML\n",
    "output_file('status/SulCOVID.html', title='COVID % Posivity Rates - Sullivan County Area')\n",
    "\n",
    "# Show map\n",
    "show(p)"
   ]
  }
 ]
}