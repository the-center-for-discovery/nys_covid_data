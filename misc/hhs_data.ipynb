{
 "metadata": {
  "language_info": {
   "codemirror_mode": {
    "name": "ipython",
    "version": 3
   },
   "file_extension": ".py",
   "mimetype": "text/x-python",
   "name": "python",
   "nbconvert_exporter": "python",
   "pygments_lexer": "ipython3",
   "version": "3.7.6-final"
  },
  "orig_nbformat": 2,
  "kernelspec": {
   "name": "python3",
   "display_name": "Python 3",
   "language": "python"
  }
 },
 "nbformat": 4,
 "nbformat_minor": 2,
 "cells": [
  {
   "cell_type": "code",
   "execution_count": 1,
   "metadata": {
    "tags": []
   },
   "outputs": [
    {
     "output_type": "stream",
     "name": "stdout",
     "text": [
      "<class 'dict'>\n{\n   \"type\": \"FeatureCollection\",\n   \"name\": \"State_Representative_Estimates_for_Hospital_Utilization\",\n   \"crs\": {\n      \"type\": \"name\",\n      \"properties\": {\n         \"name\": \"urn:ogc:def:crs:OGC:1.3:CRS84\"\n      }\n   },\n   \"features\": [\n      {\n         \"type\": \"Feature\",\n         \"id\": 41,\n         \"properties\": {\n            \"OBJECTID\": 41,\n            \"state_name\": \"New York\",\n            \"total_inpatient_beds\": 45778,\n            \"total_icu_beds\": 8098,\n            \"pct_inpatient_bed_utilization\": 72.43,\n            \"pct_inpatients_with_covid\": 13.18,\n            \"pct_icu_bed_utilization\": 61.9,\n            \"icu_beds_used_estimate\": 4161,\n            \"inpatient_beds_used_estimate\": 39226,\n            \"inpatient_beds_used_covid_est\": 7137,\n            \"last_updated\": \"2020/12/15 14:20:00+00\"\n         },\n         \"geometry\": {\n            \"type\": \"MultiPolygon\",\n            \"coordinates\": [\n               [\n                  [\n                     [\n                        -79.763235005,\n                        42.2673270920001\n                     ],\n                     [\n                        -79.4440203779999,\n                        42.419361483\n                     ],\n                     [\n                        -79.35488381,\n                        42.493461826\n                     ],\n                     [\n                        -79.1422333049999,\n                        42.574616791\n                     ],\n                     [\n                        -79.043751909,\n                        42.699246794\n                     ],\n                     [\n                        -78.8591998109999,\n                        42.792745107\n                     ],\n                     [\n                        -78.936551375,\n                        42.9742313900001\n                     ],\n                     [\n                        -78.882793287,\n                        43.0223576020001\n                     ],\n                     [\n                        -78.9255963749999,\n                        43.0666266920001\n                     ],\n                     [\n                        -79.061114706,\n                        43.0906050200001\n                     ],\n                     [\n                        -79.039325305,\n                        43.1447392050001\n                     ],\n                     [\n                        -79.0622390089999,\n                        43.268216206\n                     ],\n                     [\n                        -78.464653719,\n                        43.37199358\n                     ],\n                     [\n                        -77.992009308,\n                        43.3655715890001\n                     ],\n                     [\n                        -77.745007389,\n                        43.335170077\n                     ],\n                     [\n                        -77.575711477,\n                        43.241547693\n                     ],\n                     [\n                        -77.377315889,\n                        43.2757129240001\n                     ],\n                     [\n                        -76.9145275069999,\n                        43.2785960260001\n                     ],\n                     [\n                        -76.736829498,\n                        43.342733208\n                     ],\n                     [\n                        -76.718471597,\n                        43.32344242\n                     ],\n                     [\n                        -76.6196279869999,\n                        43.4141526920001\n                     ],\n                     [\n                        -76.454655693,\n                        43.500721023\n                     ],\n                     [\n                        -76.222764701,\n                        43.5541537820001\n                     ],\n                     [\n                        -76.184570411,\n                        43.633197318\n                     ],\n                     [\n                        -76.205666311,\n                        43.6827000150001\n                     ],\n                     [\n                        -76.239991823,\n                        43.8351272880001\n                     ],\n                     [\n                        -76.193718487,\n                        43.912490301\n                     ],\n                     [\n                        -76.1290659059999,\n                        43.9322080060001\n                     ],\n                     [\n                        -76.134522322,\n                        44.013228902\n                     ],\n                     [\n                        -76.201542503,\n                        44.0655981240001\n                     ],\n                     [\n                        -76.296882916,\n                        44.0420170800001\n                     ],\n                     [\n                        -76.362881003,\n                        44.0983548020001\n                     ],\n                     [\n                        -75.8480299239999,\n                        44.39026269\n                     ],\n                     [\n                        -75.7586574919999,\n                        44.517533508\n                     ],\n                     [\n                        -75.328862377,\n                        44.810629211\n                     ],\n                     [\n                        -74.968469601,\n                        44.9486251220001\n                     ],\n                     [\n                        -74.736107607,\n                        44.992916177\n                     ],\n                     [\n                        -74.021538901,\n                        44.990847382\n                     ],\n                     [\n                        -73.3447234769999,\n                        45.006138795\n                     ],\n                     [\n                        -73.350758388,\n                        44.9819729880001\n                     ],\n                     [\n                        -73.336414679,\n                        44.9326038940001\n                     ],\n                     [\n                        -73.382306789,\n                        44.84793361\n                     ],\n                     [\n                        -73.3690541239999,\n                        44.8191179240001\n                     ],\n                     [\n                        -73.326786276,\n                        44.799293606\n                     ],\n                     [\n                        -73.37315861,\n                        44.724236391\n                     ],\n                     [\n                        -73.3581509799999,\n                        44.680368575\n                     ],\n                     [\n                        -73.3730972229999,\n                        44.661276403\n                     ],\n                     [\n                        -73.370136725,\n                        44.6343490780001\n                     ],\n                     [\n                        -73.381825115,\n                        44.6198076840001\n                     ],\n                     [\n                        -73.371295996,\n                        44.579167001\n                     ],\n                     [\n                        -73.3478119819999,\n                        44.5539715880001\n                     ],\n                     [\n                        -73.334452497,\n                        44.5443282150001\n                     ],\n                     [\n                        -73.2933197789999,\n                        44.432853589\n                     ],\n                     [\n                        -73.2999951959999,\n                        44.405533174\n                     ],\n                     [\n                        -73.329788113,\n                        44.3673904820001\n                     ],\n                     [\n                        -73.3053256759999,\n                        44.2601422880001\n                     ],\n                     [\n                        -73.377332617,\n                        44.201247519\n                     ],\n                     [\n                        -73.3820623779999,\n                        44.172107591\n                     ],\n                     [\n                        -73.407864778,\n                        44.136227078\n                     ],\n                     [\n                        -73.408756792,\n                        44.1066103970001\n                     ],\n                     [\n                        -73.435215291,\n                        44.0638978120001\n                     ],\n                     [\n                        -73.4360006919999,\n                        44.045679211\n                     ],\n                     [\n                        -73.408251288,\n                        44.0182218790001\n                     ],\n                     [\n                        -73.417406098,\n                        43.9881969830001\n                     ],\n                     [\n                        -73.4053345139999,\n                        43.914807599\n                     ],\n                     [\n                        -73.375120792,\n                        43.885976993\n                     ],\n                     [\n                        -73.3847399209999,\n                        43.804507992\n                     ],\n                     [\n                        -73.358997199,\n                        43.778427611\n                     ],\n                     [\n                        -73.3566696949999,\n                        43.756558381\n                     ],\n                     [\n                        -73.3709894199999,\n                        43.7142811040001\n                     ],\n                     [\n                        -73.422959802,\n                        43.632114717\n                     ],\n                     [\n                        -73.418319818,\n                        43.582479402\n                     ],\n                     [\n                        -73.388114178,\n                        43.569143695\n                     ],\n                     [\n                        -73.363685516,\n                        43.6149988180001\n                     ],\n                     [\n                        -73.303534499,\n                        43.6247148210001\n                     ],\n                     [\n                        -73.294104299,\n                        43.6196528930001\n                     ],\n                     [\n                        -73.2817362919999,\n                        43.593187297\n                     ],\n                     [\n                        -73.2914025109999,\n                        43.5750336070001\n                     ],\n                     [\n                        -73.259983776,\n                        43.559382312\n                     ],\n                     [\n                        -73.238391386,\n                        43.512832808\n                     ],\n                     [\n                        -73.250071487,\n                        43.310853987\n                     ],\n                     [\n                        -73.276005315,\n                        42.940294097\n                     ],\n                     [\n                        -73.279583213,\n                        42.8371033000001\n                     ],\n                     [\n                        -73.296169778,\n                        42.803549409\n                     ],\n                     [\n                        -73.269275297,\n                        42.7474813790001\n                     ],\n                     [\n                        -73.258059826,\n                        42.746058685\n                     ],\n                     [\n                        -73.350824179,\n                        42.50475578\n                     ],\n                     [\n                        -73.4988399759999,\n                        42.077460677\n                     ],\n                     [\n                        -73.4842303039999,\n                        42.04742801\n                     ],\n                     [\n                        -73.51714742,\n                        41.665686115\n                     ],\n                     [\n                        -73.530392107,\n                        41.5227455090001\n                     ],\n                     [\n                        -73.5442932029999,\n                        41.3652984760001\n                     ],\n                     [\n                        -73.5502596809999,\n                        41.2936206970001\n                     ],\n                     [\n                        -73.4781207949999,\n                        41.2107549040001\n                     ],\n                     [\n                        -73.725237616,\n                        41.1003541760001\n                     ],\n                     [\n                        -73.6537237969999,\n                        41.0126173\n                     ],\n                     [\n                        -73.653151414,\n                        40.9983924810001\n                     ],\n                     [\n                        -73.7800412129999,\n                        40.8866887770001\n                     ],\n                     [\n                        -73.7963459119999,\n                        40.832334114\n                     ],\n                     [\n                        -73.919861817,\n                        40.8028047760001\n                     ],\n                     [\n                        -74.0061834059999,\n                        40.7040019880001\n                     ],\n                     [\n                        -74.0062598169999,\n                        40.7377309240001\n                     ],\n                     [\n                        -73.977061092,\n                        40.7974870910001\n                     ],\n                     [\n                        -73.922394517,\n                        40.886040087\n                     ],\n                     [\n                        -73.9089661849999,\n                        40.927314386\n                     ],\n                     [\n                        -73.8961483109999,\n                        40.9608717990001\n                     ],\n                     [\n                        -73.8966974859999,\n                        40.9985298130001\n                     ],\n                     [\n                        -74.2130386969999,\n                        41.1236115990001\n                     ],\n                     [\n                        -74.242359525,\n                        41.1376266120001\n                     ],\n                     [\n                        -74.371980795,\n                        41.1958500010001\n                     ],\n                     [\n                        -74.700062408,\n                        41.350573126\n                     ],\n                     [\n                        -74.705273324,\n                        41.375059289\n                     ],\n                     [\n                        -74.7404375949999,\n                        41.4016359010001\n                     ],\n                     [\n                        -74.740040725,\n                        41.4220594880001\n                     ],\n                     [\n                        -74.754826582,\n                        41.4301464100001\n                     ],\n                     [\n                        -74.7927989949999,\n                        41.4299171770001\n                     ],\n                     [\n                        -74.8640666919999,\n                        41.4471548160001\n                     ],\n                     [\n                        -74.8952793,\n                        41.4446711740001\n                     ],\n                     [\n                        -74.898559687,\n                        41.461894204\n                     ],\n                     [\n                        -74.932564376,\n                        41.484350686\n                     ],\n                     [\n                        -74.9717880119999,\n                        41.483602584\n                     ],\n                     [\n                        -75.014886797,\n                        41.5395559190001\n                     ],\n                     [\n                        -75.0250873749999,\n                        41.5658008820001\n                     ],\n                     [\n                        -75.069865388,\n                        41.6044779850001\n                     ],\n                     [\n                        -75.0724517049999,\n                        41.6130800980001\n                     ],\n                     [\n                        -75.0513249809999,\n                        41.637314804\n                     ],\n                     [\n                        -75.065400916,\n                        41.7148368040001\n                     ],\n                     [\n                        -75.0569699119999,\n                        41.7267081140001\n                     ],\n                     [\n                        -75.061318499,\n                        41.7702603910001\n                     ],\n                     [\n                        -75.097154979,\n                        41.779041798\n                     ],\n                     [\n                        -75.0968268,\n                        41.797207299\n                     ],\n                     [\n                        -75.079843001,\n                        41.814148307\n                     ],\n                     [\n                        -75.11777739,\n                        41.8369867920001\n                     ],\n                     [\n                        -75.124750784,\n                        41.8491823950001\n                     ],\n                     [\n                        -75.148280593,\n                        41.855789379\n                     ],\n                     [\n                        -75.1712838139999,\n                        41.867839879\n                     ],\n                     [\n                        -75.254515499,\n                        41.8688733180001\n                     ],\n                     [\n                        -75.28368998,\n                        41.9476038020001\n                     ],\n                     [\n                        -75.324065789,\n                        41.961274991\n                     ],\n                     [\n                        -75.345657091,\n                        41.992844995\n                     ],\n                     [\n                        -75.382813176,\n                        41.998356582\n                     ],\n                     [\n                        -75.479732214,\n                        41.9963677210001\n                     ],\n                     [\n                        -76.1048345149999,\n                        41.9994987050001\n                     ],\n                     [\n                        -76.145020307,\n                        42.0006545050001\n                     ],\n                     [\n                        -76.563914815,\n                        42.0030113820001\n                     ],\n                     [\n                        -76.9283952929999,\n                        42.0025345780001\n                     ],\n                     [\n                        -76.9685736769999,\n                        42.0029810250001\n                     ],\n                     [\n                        -77.6128476169999,\n                        41.998829604\n                     ],\n                     [\n                        -77.7450079069999,\n                        41.997333193\n                     ],\n                     [\n                        -78.20426201,\n                        41.998200393\n                     ],\n                     [\n                        -78.305088212,\n                        41.9994205850001\n                     ],\n                     [\n                        -78.918538282,\n                        41.9998467770001\n                     ],\n                     [\n                        -79.059488888,\n                        42.001157678\n                     ],\n                     [\n                        -79.612367499,\n                        42.0005848810001\n                     ],\n                     [\n                        -79.761659696,\n                        42.003105717\n                     ],\n                     [\n                        -79.763235005,\n                        42.2673270920001\n                     ]\n                  ]\n               ],\n               [\n                  [\n                     [\n                        -73.752208974,\n                        40.594587194\n                     ],\n                     [\n                        -73.9275907209999,\n                        40.5576502920001\n                     ],\n                     [\n                        -73.761395022,\n                        40.6182379140001\n                     ],\n                     [\n                        -73.764935103,\n                        40.6369335250001\n                     ],\n                     [\n                        -73.846060799,\n                        40.6526001030001\n                     ],\n                     [\n                        -73.915734382,\n                        40.6311314210001\n                     ],\n                     [\n                        -73.879814083,\n                        40.5902691200001\n                     ],\n                     [\n                        -74.0040392889999,\n                        40.5812589990001\n                     ],\n                     [\n                        -74.0277217129999,\n                        40.639336508\n                     ],\n                     [\n                        -73.955606812,\n                        40.7393826960001\n                     ],\n                     [\n                        -73.899017789,\n                        40.7971172100001\n                     ],\n                     [\n                        -73.753917782,\n                        40.788851202\n                     ],\n                     [\n                        -73.749477192,\n                        40.8449987000001\n                     ],\n                     [\n                        -73.598271924,\n                        40.9031443820001\n                     ],\n                     [\n                        -73.4780896089999,\n                        40.8797447050001\n                     ],\n                     [\n                        -73.4306477809999,\n                        40.9225565990001\n                     ],\n                     [\n                        -73.214523089,\n                        40.901041708\n                     ],\n                     [\n                        -73.140979692,\n                        40.951396012\n                     ],\n                     [\n                        -73.021269726,\n                        40.9684331170001\n                     ],\n                     [\n                        -72.6315723879999,\n                        40.981285181\n                     ],\n                     [\n                        -72.317031523,\n                        41.1493333930001\n                     ],\n                     [\n                        -72.2811491959999,\n                        41.142535304\n                     ],\n                     [\n                        -72.3542793,\n                        41.1102027970001\n                     ],\n                     [\n                        -72.4163456169999,\n                        41.02604009\n                     ],\n                     [\n                        -72.550971209,\n                        40.9661799\n                     ],\n                     [\n                        -72.6048153949999,\n                        40.905300622\n                     ],\n                     [\n                        -72.476109088,\n                        40.920148281\n                     ],\n                     [\n                        -72.2930824119999,\n                        41.024017401\n                     ],\n                     [\n                        -72.2033505109999,\n                        41.035373882\n                     ],\n                     [\n                        -72.077011182,\n                        41.000574312\n                     ],\n                     [\n                        -71.923700184,\n                        41.0848718130001\n                     ],\n                     [\n                        -71.869986699,\n                        41.0745076900001\n                     ],\n                     [\n                        -71.9187022849999,\n                        41.030574083\n                     ],\n                     [\n                        -72.5211642,\n                        40.815041615\n                     ],\n                     [\n                        -73.422526099,\n                        40.6613250950001\n                     ],\n                     [\n                        -73.752208974,\n                        40.594587194\n                     ]\n                  ]\n               ],\n               [\n                  [\n                     [\n                        -73.2930589969999,\n                        40.626382182\n                     ],\n                     [\n                        -73.2911439059999,\n                        40.633076922\n                     ],\n                     [\n                        -73.240437179,\n                        40.633076611\n                     ],\n                     [\n                        -73.0510228059999,\n                        40.675167082\n                     ],\n                     [\n                        -72.87690601,\n                        40.7373462790001\n                     ],\n                     [\n                        -72.782199109,\n                        40.7641333190001\n                     ],\n                     [\n                        -72.7573264869999,\n                        40.767959514\n                     ],\n                     [\n                        -72.764025319,\n                        40.7583922920001\n                     ],\n                     [\n                        -72.956315697,\n                        40.7000388230001\n                     ],\n                     [\n                        -73.030933977,\n                        40.6713409910001\n                     ],\n                     [\n                        -73.249051207,\n                        40.625424481\n                     ],\n                     [\n                        -73.2930589969999,\n                        40.626382182\n                     ]\n                  ]\n               ],\n               [\n                  [\n                     [\n                        -74.236939682,\n                        40.5060033230001\n                     ],\n                     [\n                        -74.23693989,\n                        40.5379049750001\n                     ],\n                     [\n                        -74.166297985,\n                        40.624497085\n                     ],\n                     [\n                        -74.0728660839999,\n                        40.649563298\n                     ],\n                     [\n                        -74.0591937029999,\n                        40.6017090060001\n                     ],\n                     [\n                        -74.122999702,\n                        40.5447411920001\n                     ],\n                     [\n                        -74.193641814,\n                        40.510561974\n                     ],\n                     [\n                        -74.236939682,\n                        40.5060033230001\n                     ]\n                  ]\n               ]\n            ]\n         }\n      }\n   ]\n}\n"
     ]
    }
   ],
   "source": [
    "import csv\n",
    "import datetime \n",
    "import json\n",
    "import pandas as pd\n",
    "import pandas_bokeh as pb\n",
    "import urllib.request as request\n",
    "\n",
    "url = \"https://opendata.arcgis.com/datasets/f527cf1835294eb280a4e5ee3c5c209c_0.geojson?where=state_name%20%3D%20'new%20york'\"\n",
    "\n",
    "\n",
    "with request.urlopen(url) as response:\n",
    "    source = response.read()\n",
    "    data = json.loads(source)\n",
    "\n",
    "with open (\"covid.json\", 'w') as outfile:\n",
    "    json.dump(data, outfile)\n",
    "\n",
    "with open('covid.json') as json_data:\n",
    "    d = json.load(json_data)\n",
    "    print(type(d))\n",
    "    print(json.dumps(d, indent=3))"
   ]
  },
  {
   "cell_type": "code",
   "execution_count": 2,
   "metadata": {},
   "outputs": [
    {
     "output_type": "stream",
     "name": "stdout",
     "text": [
      " Bed Utilization: 72.43% \n Beds COVID: 13.18% \n ICU Beds: 61.9% \n Last Updated: 2020/12/15 14:20:00+00\n"
     ]
    }
   ],
   "source": [
    "f = (d['features'])\n",
    "\n",
    "state = f[0]['properties']['state_name']\n",
    "in_beds_tot = f[0]['properties']['total_inpatient_beds']\n",
    "ic_beds_tot = f[0]['properties']['total_icu_beds']\n",
    "pc_beds_ut = f[0]['properties']['pct_inpatient_bed_utilization']\n",
    "pc_beds_utcv = f[0]['properties']['pct_inpatients_with_covid']\n",
    "pc_icu_ut = f[0]['properties']['pct_icu_bed_utilization']\n",
    "last_upd = f[0]['properties']['last_updated']\n",
    "\n",
    "print(\" Bed Utilization: \" + str(pc_beds_ut) + \"%\", \"\\n\" , \"Beds COVID: \" + str(pc_beds_utcv) + \"%\", \"\\n\", \"ICU Beds: \" + str(pc_icu_ut) + \"%\", \"\\n\", \n",
    "    \"Last Updated: \" + str(last_upd))"
   ]
  },
  {
   "cell_type": "code",
   "execution_count": 16,
   "metadata": {},
   "outputs": [],
   "source": [
    "from bokeh.io import output_file, show\n",
    "from bokeh.models import ColumnDataSource\n",
    "from bokeh.palettes import Spectral6\n",
    "from bokeh.plotting import figure\n",
    "\n",
    "df = pd.read_csv(\"base_files/County Stats.csv\")\n",
    "\n",
    "pct_pos = df[\"Positive\"]= (df[\"New_Positives\"] / df[\"New_Tests\"] * 100)\n",
    "sur_cnt = df[df[\"County\"].isin([\"Delaware\", \"Sullivan\", \"Ulster\", \"Orange\", \"Greene\", \"Rockland\"])]\n",
    "source = ColumnDataSource(data=sur_cnt)\n",
    "\n",
    "output_file(\"bars.html\")\n",
    "\n",
    "names = ['Total_Beds_Utilized', 'COVID', 'ICU']\n",
    "pcts = [pc_beds_ut, pc_beds_utcv, pc_icu_ut]\n",
    "\n",
    "z = zip(names,pcts)\n",
    "d = dict(z)\n",
    "beds = pd.DataFrame(d, index = [0])\n",
    "\n",
    "source = ColumnDataSource(data=beds)\n",
    "\n",
    "tooltips = [(\"Total\", \"@pc_beds_ut\")]\n",
    "\n",
    "p_beds = figure(x_range=names, y_range = (0,100), plot_height= 600, plot_width = 800, title=\"NYS Bed Utilization\",\n",
    "                toolbar_location=\"right\", tooltips = tooltips)\n",
    "\n",
    "p_beds.vbar(x=names, top=pcts, width=0.5, color=['lightsalmon', 'orange' , 'red'], alpha= 0.8) \n",
    "\n",
    "p_beds.xgrid.grid_line_color = None\n",
    "p_beds.y_range.start = 0\n",
    "\n",
    "show(p_beds)"
   ]
  },
  {
   "cell_type": "code",
   "execution_count": 15,
   "metadata": {},
   "outputs": [],
   "source": [
    "z = zip(names,pcts)\n",
    "d = dict(z)\n",
    "\n",
    "beds = pd.DataFrame(d, index = [\"\"])\n",
    "\n",
    "beds"
   ]
  },
  {
   "cell_type": "code",
   "execution_count": 12,
   "metadata": {},
   "outputs": [
    {
     "output_type": "stream",
     "name": "stderr",
     "text": [
      "BokehDeprecationWarning: 'legend' keyword is deprecated, use explicit 'legend_label', 'legend_field', or 'legend_group' keywords instead\nBokehDeprecationWarning: 'legend' keyword is deprecated, use explicit 'legend_label', 'legend_field', or 'legend_group' keywords instead\nBokehDeprecationWarning: 'legend' keyword is deprecated, use explicit 'legend_label', 'legend_field', or 'legend_group' keywords instead\nBokehDeprecationWarning: 'legend' keyword is deprecated, use explicit 'legend_label', 'legend_field', or 'legend_group' keywords instead\n"
     ]
    }
   ],
   "source": [
    "  df = pd.read_csv(\"base_files/County Stats.csv\")\n",
    "\n",
    "  pct_pos = df[\"Positive\"]= (df[\"New_Positives\"] / df[\"New_Tests\"] * 100)\n",
    "  sur_cnt = df[df[\"County\"].isin([\"Delaware\", \"Sullivan\", \"Ulster\", \"Orange\", \"Greene\", \"Rockland\"])]\n",
    "\n",
    "  p_test = beds.plot_bokeh.bar(colormap=['lightsalmon', 'orange' , 'red'], ylim = (0,100), \n",
    "                                  title='New_Tests - Sullivan County Area, Data as of: ', xlabel='Bed Utilization', ylabel='% Utilization',\n",
    "                                  figsize=(800, 200), zooming=False, panning=False, show_figure=False, stacked=False,\n",
    "                                  hovertool_string=\"\"\"<h2>Bed Utilization</h2> \n",
    "                                                    <h3> Total Beds: @{Total_Beds_Utilized} % </h3>\n",
    "                                                    <h3> COVID: @{COVID} % </h3>\n",
    "                                                    <h3> ICU: @{ICU} % </h3>\"\"\", alpha=0.6,)\n",
    "\n",
    "  p_pct = sur_cnt.plot_bokeh.bar(x='County',  y=['Positive'], stacked=False, normed=100, colormap=['red', 'orange'],\n",
    "                                 title='Percentage Positive Sullivan County Area, Data as of: ', xlabel='County', ylabel='Tests/Cases',\n",
    "                                 figsize=(800, 600), zooming=False, panning=False, show_figure=False,\n",
    "                                 hovertool_string=\"\"\"<h2> @{County} County</h2> \n",
    "                                                    <h3> All_Positives: @{All_Positives} </h3>\n",
    "                                                    <h3> Percentage Positives: @{Positive} % </h3>\"\"\", alpha=0.6)\n",
    "\n",
    "  plot = pb.plot_grid([[p_test, p_pct]], plot_width=800, plot_height=600)"
   ]
  },
  {
   "cell_type": "code",
   "execution_count": 6,
   "metadata": {},
   "outputs": [],
   "source": [
    "from bokeh.io import output_file, show\n",
    "from bokeh.plotting import figure\n",
    "\n",
    "output_file(\"stacked.html\")\n",
    "\n",
    "fruits = ['Apples', 'Pears', 'Nectarines', 'Plums', 'Grapes', 'Strawberries']\n",
    "years = [\"2015\", \"2016\", \"2017\"]\n",
    "colors = [\"#c9d9d3\", \"#718dbf\", \"#e84d60\"]\n",
    "\n",
    "data = {'fruits' : fruits,\n",
    "        '2015'   : [2, 1, 4, 3, 2, 4],\n",
    "        '2016'   : [5, 3, 4, 2, 4, 6],\n",
    "        '2017'   : [3, 2, 4, 4, 5, 3]}\n",
    "\n",
    "p = figure(x_range=fruits, plot_height=250, title=\"Fruit Counts by Year\",\n",
    "           toolbar_location=None, tools=\"hover\", tooltips=\"$name @fruits: @$name\")\n",
    "\n",
    "p.vbar_stack(years, x='fruits', width=0.9, color=colors, source=data,\n",
    "             legend_label=years)\n",
    "\n",
    "p.y_range.start = 0\n",
    "p.x_range.range_padding = 0.1\n",
    "p.xgrid.grid_line_color = None\n",
    "p.axis.minor_tick_line_color = None\n",
    "p.outline_line_color = None\n",
    "p.legend.location = \"top_left\"\n",
    "p.legend.orientation = \"horizontal\"\n",
    "\n",
    "show(p)"
   ]
  },
  {
   "cell_type": "code",
   "execution_count": 7,
   "metadata": {},
   "outputs": [
    {
     "output_type": "error",
     "ename": "KeyError",
     "evalue": "'features'",
     "traceback": [
      "\u001b[0;31m---------------------------------------------------------------------------\u001b[0m",
      "\u001b[0;31mKeyError\u001b[0m                                  Traceback (most recent call last)",
      "\u001b[0;32m<ipython-input-7-c0d6c591760b>\u001b[0m in \u001b[0;36m<module>\u001b[0;34m\u001b[0m\n\u001b[1;32m      1\u001b[0m \u001b[0mfilt_key\u001b[0m \u001b[0;34m=\u001b[0m \u001b[0;34m[\u001b[0m\u001b[0;34m'features'\u001b[0m\u001b[0;34m]\u001b[0m\u001b[0;34m\u001b[0m\u001b[0;34m\u001b[0m\u001b[0m\n\u001b[1;32m      2\u001b[0m \u001b[0;34m\u001b[0m\u001b[0m\n\u001b[0;32m----> 3\u001b[0;31m \u001b[0mres\u001b[0m \u001b[0;34m=\u001b[0m \u001b[0;34m[\u001b[0m\u001b[0md\u001b[0m\u001b[0;34m[\u001b[0m\u001b[0mkey\u001b[0m\u001b[0;34m]\u001b[0m \u001b[0;32mfor\u001b[0m \u001b[0mkey\u001b[0m \u001b[0;32min\u001b[0m \u001b[0mfilt_key\u001b[0m\u001b[0;34m]\u001b[0m\u001b[0;34m\u001b[0m\u001b[0;34m\u001b[0m\u001b[0m\n\u001b[0m\u001b[1;32m      4\u001b[0m \u001b[0;34m\u001b[0m\u001b[0m\n\u001b[1;32m      5\u001b[0m \u001b[0mres\u001b[0m\u001b[0;34m\u001b[0m\u001b[0;34m\u001b[0m\u001b[0m\n",
      "\u001b[0;32m<ipython-input-7-c0d6c591760b>\u001b[0m in \u001b[0;36m<listcomp>\u001b[0;34m(.0)\u001b[0m\n\u001b[1;32m      1\u001b[0m \u001b[0mfilt_key\u001b[0m \u001b[0;34m=\u001b[0m \u001b[0;34m[\u001b[0m\u001b[0;34m'features'\u001b[0m\u001b[0;34m]\u001b[0m\u001b[0;34m\u001b[0m\u001b[0;34m\u001b[0m\u001b[0m\n\u001b[1;32m      2\u001b[0m \u001b[0;34m\u001b[0m\u001b[0m\n\u001b[0;32m----> 3\u001b[0;31m \u001b[0mres\u001b[0m \u001b[0;34m=\u001b[0m \u001b[0;34m[\u001b[0m\u001b[0md\u001b[0m\u001b[0;34m[\u001b[0m\u001b[0mkey\u001b[0m\u001b[0;34m]\u001b[0m \u001b[0;32mfor\u001b[0m \u001b[0mkey\u001b[0m \u001b[0;32min\u001b[0m \u001b[0mfilt_key\u001b[0m\u001b[0;34m]\u001b[0m\u001b[0;34m\u001b[0m\u001b[0;34m\u001b[0m\u001b[0m\n\u001b[0m\u001b[1;32m      4\u001b[0m \u001b[0;34m\u001b[0m\u001b[0m\n\u001b[1;32m      5\u001b[0m \u001b[0mres\u001b[0m\u001b[0;34m\u001b[0m\u001b[0;34m\u001b[0m\u001b[0m\n",
      "\u001b[0;31mKeyError\u001b[0m: 'features'"
     ]
    }
   ],
   "source": [
    "filt_key = ['features']\n",
    "\n",
    "res = [d[key] for key in filt_key]\n",
    "\n",
    "res"
   ]
  },
  {
   "cell_type": "code",
   "execution_count": 51,
   "metadata": {},
   "outputs": [],
   "source": [
    "for key, val in d.items():\n",
    "    if 'features' in key:\n",
    "        plot = val"
   ]
  },
  {
   "cell_type": "code",
   "execution_count": 50,
   "metadata": {},
   "outputs": [
    {
     "output_type": "stream",
     "name": "stdout",
     "text": [
      "type\nname\ncrs\nfeatures\nfeatures\n"
     ]
    }
   ],
   "source": [
    "for key, val in d.items():\n",
    "    print(key)\n",
    "    if 'features' in key:\n",
    "        print(key)"
   ]
  },
  {
   "cell_type": "code",
   "execution_count": 5,
   "metadata": {},
   "outputs": [
    {
     "output_type": "execute_result",
     "data": {
      "text/plain": [
       "                                                   0\n",
       "0  {'type': 'Feature', 'id': 41, 'properties': {'..."
      ],
      "text/html": "<div>\n<style scoped>\n    .dataframe tbody tr th:only-of-type {\n        vertical-align: middle;\n    }\n\n    .dataframe tbody tr th {\n        vertical-align: top;\n    }\n\n    .dataframe thead th {\n        text-align: right;\n    }\n</style>\n<table border=\"1\" class=\"dataframe\">\n  <thead>\n    <tr style=\"text-align: right;\">\n      <th></th>\n      <th>0</th>\n    </tr>\n  </thead>\n  <tbody>\n    <tr>\n      <th>0</th>\n      <td>{'type': 'Feature', 'id': 41, 'properties': {'...</td>\n    </tr>\n  </tbody>\n</table>\n</div>"
     },
     "metadata": {},
     "execution_count": 5
    }
   ],
   "source": [
    "df = pd.DataFrame.from_dict(res)\n",
    "\n",
    "df"
   ]
  },
  {
   "cell_type": "code",
   "execution_count": null,
   "metadata": {},
   "outputs": [],
   "source": []
  }
 ]
}