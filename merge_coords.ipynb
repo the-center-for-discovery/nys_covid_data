{
 "metadata": {
  "language_info": {
   "codemirror_mode": {
    "name": "ipython",
    "version": 3
   },
   "file_extension": ".py",
   "mimetype": "text/x-python",
   "name": "python",
   "nbconvert_exporter": "python",
   "pygments_lexer": "ipython3",
   "version": "3.7.6-final"
  },
  "orig_nbformat": 2,
  "kernelspec": {
   "name": "python3",
   "display_name": "Python 3",
   "language": "python"
  }
 },
 "nbformat": 4,
 "nbformat_minor": 2,
 "cells": [
  {
   "cell_type": "code",
   "execution_count": 3,
   "metadata": {},
   "outputs": [
    {
     "output_type": "execute_result",
     "data": {
      "text/plain": [
       "            County                             co-ordinates   latitude  \\\n",
       "0       Albany, NY  (42.65172576904297, -73.75509643554688)  42.588240   \n",
       "1     Allegany, NY  (42.08806228637695, -78.49125671386719)  42.247853   \n",
       "2        Bronx, NY   (40.82615280151367, -73.9202651977539)  40.848711   \n",
       "3       Broome, NY  (42.52092361450195, -74.30384826660156)  42.161977   \n",
       "4  Cattaraugus, NY  (42.32959747314453, -78.86852264404297)  42.239099   \n",
       "\n",
       "   longitude                                      geometry  \n",
       "0 -73.974009  POINT (-73.75509643554688 42.65172576904297)  \n",
       "1 -78.026153  POINT (-78.49125671386719 42.08806228637695)  \n",
       "2 -73.852939  POINT (-73.92026519775391 40.82615280151367)  \n",
       "3 -75.830283  POINT (-74.30384826660156 42.52092361450195)  \n",
       "4 -78.662332  POINT (-78.86852264404297 42.32959747314453)  "
      ],
      "text/html": "<div>\n<style scoped>\n    .dataframe tbody tr th:only-of-type {\n        vertical-align: middle;\n    }\n\n    .dataframe tbody tr th {\n        vertical-align: top;\n    }\n\n    .dataframe thead th {\n        text-align: right;\n    }\n</style>\n<table border=\"1\" class=\"dataframe\">\n  <thead>\n    <tr style=\"text-align: right;\">\n      <th></th>\n      <th>County</th>\n      <th>co-ordinates</th>\n      <th>latitude</th>\n      <th>longitude</th>\n      <th>geometry</th>\n    </tr>\n  </thead>\n  <tbody>\n    <tr>\n      <th>0</th>\n      <td>Albany, NY</td>\n      <td>(42.65172576904297, -73.75509643554688)</td>\n      <td>42.588240</td>\n      <td>-73.974009</td>\n      <td>POINT (-73.75509643554688 42.65172576904297)</td>\n    </tr>\n    <tr>\n      <th>1</th>\n      <td>Allegany, NY</td>\n      <td>(42.08806228637695, -78.49125671386719)</td>\n      <td>42.247853</td>\n      <td>-78.026153</td>\n      <td>POINT (-78.49125671386719 42.08806228637695)</td>\n    </tr>\n    <tr>\n      <th>2</th>\n      <td>Bronx, NY</td>\n      <td>(40.82615280151367, -73.9202651977539)</td>\n      <td>40.848711</td>\n      <td>-73.852939</td>\n      <td>POINT (-73.92026519775391 40.82615280151367)</td>\n    </tr>\n    <tr>\n      <th>3</th>\n      <td>Broome, NY</td>\n      <td>(42.52092361450195, -74.30384826660156)</td>\n      <td>42.161977</td>\n      <td>-75.830283</td>\n      <td>POINT (-74.30384826660156 42.52092361450195)</td>\n    </tr>\n    <tr>\n      <th>4</th>\n      <td>Cattaraugus, NY</td>\n      <td>(42.32959747314453, -78.86852264404297)</td>\n      <td>42.239099</td>\n      <td>-78.662332</td>\n      <td>POINT (-78.86852264404297 42.32959747314453)</td>\n    </tr>\n  </tbody>\n</table>\n</div>"
     },
     "metadata": {},
     "execution_count": 3
    }
   ],
   "source": [
    "import pandas as pd\n",
    "import geopandas as gpd\n",
    "import matplotlib.pyplot as plt\n",
    "df_stats = pd.read_csv('County Stats.csv')\n",
    "df_coords = pd.read_csv('coords.csv')\n",
    "\n",
    "df_stats['County'] = df_stats['County'].astype(str) + \", NY\"\n",
    "pct_pos = df_stats[\"Positive\"]= (df_stats[\"New_Positives\"] / df_stats[\"New_Tests\"] * 100)\n",
    "\n",
    "df_coords.head()"
   ]
  },
  {
   "cell_type": "code",
   "execution_count": 4,
   "metadata": {},
   "outputs": [
    {
     "output_type": "execute_result",
     "data": {
      "text/plain": [
       "             County  New_Positives  All_Positives  New_Tests  All_Tests  \\\n",
       "0        Albany, NY            208           8613       3191     301789   \n",
       "1      Allegany, NY             17           1468        240      45868   \n",
       "2         Bronx, NY            675          73685      14431    1491456   \n",
       "3        Broome, NY             72           6764       2080     254122   \n",
       "4   Cattaraugus, NY             37           1905        704      70858   \n",
       "..              ...            ...            ...        ...        ...   \n",
       "57   Washington, NY             13            619        367      51622   \n",
       "58        Wayne, NY             58           1848        760      86857   \n",
       "59  Westchester, NY            571          61111       9593    1277979   \n",
       "60      Wyoming, NY             35            974        355      37879   \n",
       "61        Yates, NY              8            386        104      18616   \n",
       "\n",
       "    Positive                              co-ordinates   latitude  longitude  \\\n",
       "0   6.518333   (42.65172576904297, -73.75509643554688)  42.588240 -73.974009   \n",
       "1   7.083333   (42.08806228637695, -78.49125671386719)  42.247853 -78.026153   \n",
       "2   4.677431    (40.82615280151367, -73.9202651977539)  40.848711 -73.852939   \n",
       "3   3.461538   (42.52092361450195, -74.30384826660156)  42.161977 -75.830283   \n",
       "4   5.255682   (42.32959747314453, -78.86852264404297)  42.239099 -78.662332   \n",
       "..       ...                                       ...        ...        ...   \n",
       "57  3.542234   (41.78553771972656, -73.69046020507812)  43.312377 -73.439428   \n",
       "58  7.631579    (42.4705810546875, -77.10536193847656)  43.458758 -77.063164   \n",
       "59  5.952257  (40.840030670166016, -73.84453582763672)  41.152686 -73.745753   \n",
       "60  9.859155    (42.8284797668457, -78.08788299560547)  42.701363 -78.228567   \n",
       "61  7.692308  (43.321258544921875, -78.38877868652344)  42.638237 -77.104324   \n",
       "\n",
       "                                        geometry  \n",
       "0   POINT (-73.75509643554688 42.65172576904297)  \n",
       "1   POINT (-78.49125671386719 42.08806228637695)  \n",
       "2   POINT (-73.92026519775391 40.82615280151367)  \n",
       "3   POINT (-74.30384826660156 42.52092361450195)  \n",
       "4   POINT (-78.86852264404297 42.32959747314453)  \n",
       "..                                           ...  \n",
       "57  POINT (-73.69046020507812 41.78553771972656)  \n",
       "58   POINT (-77.10536193847656 42.4705810546875)  \n",
       "59  POINT (-73.84453582763672 40.84003067016602)  \n",
       "60   POINT (-78.08788299560547 42.8284797668457)  \n",
       "61  POINT (-78.38877868652344 43.32125854492188)  \n",
       "\n",
       "[62 rows x 10 columns]"
      ],
      "text/html": "<div>\n<style scoped>\n    .dataframe tbody tr th:only-of-type {\n        vertical-align: middle;\n    }\n\n    .dataframe tbody tr th {\n        vertical-align: top;\n    }\n\n    .dataframe thead th {\n        text-align: right;\n    }\n</style>\n<table border=\"1\" class=\"dataframe\">\n  <thead>\n    <tr style=\"text-align: right;\">\n      <th></th>\n      <th>County</th>\n      <th>New_Positives</th>\n      <th>All_Positives</th>\n      <th>New_Tests</th>\n      <th>All_Tests</th>\n      <th>Positive</th>\n      <th>co-ordinates</th>\n      <th>latitude</th>\n      <th>longitude</th>\n      <th>geometry</th>\n    </tr>\n  </thead>\n  <tbody>\n    <tr>\n      <th>0</th>\n      <td>Albany, NY</td>\n      <td>208</td>\n      <td>8613</td>\n      <td>3191</td>\n      <td>301789</td>\n      <td>6.518333</td>\n      <td>(42.65172576904297, -73.75509643554688)</td>\n      <td>42.588240</td>\n      <td>-73.974009</td>\n      <td>POINT (-73.75509643554688 42.65172576904297)</td>\n    </tr>\n    <tr>\n      <th>1</th>\n      <td>Allegany, NY</td>\n      <td>17</td>\n      <td>1468</td>\n      <td>240</td>\n      <td>45868</td>\n      <td>7.083333</td>\n      <td>(42.08806228637695, -78.49125671386719)</td>\n      <td>42.247853</td>\n      <td>-78.026153</td>\n      <td>POINT (-78.49125671386719 42.08806228637695)</td>\n    </tr>\n    <tr>\n      <th>2</th>\n      <td>Bronx, NY</td>\n      <td>675</td>\n      <td>73685</td>\n      <td>14431</td>\n      <td>1491456</td>\n      <td>4.677431</td>\n      <td>(40.82615280151367, -73.9202651977539)</td>\n      <td>40.848711</td>\n      <td>-73.852939</td>\n      <td>POINT (-73.92026519775391 40.82615280151367)</td>\n    </tr>\n    <tr>\n      <th>3</th>\n      <td>Broome, NY</td>\n      <td>72</td>\n      <td>6764</td>\n      <td>2080</td>\n      <td>254122</td>\n      <td>3.461538</td>\n      <td>(42.52092361450195, -74.30384826660156)</td>\n      <td>42.161977</td>\n      <td>-75.830283</td>\n      <td>POINT (-74.30384826660156 42.52092361450195)</td>\n    </tr>\n    <tr>\n      <th>4</th>\n      <td>Cattaraugus, NY</td>\n      <td>37</td>\n      <td>1905</td>\n      <td>704</td>\n      <td>70858</td>\n      <td>5.255682</td>\n      <td>(42.32959747314453, -78.86852264404297)</td>\n      <td>42.239099</td>\n      <td>-78.662332</td>\n      <td>POINT (-78.86852264404297 42.32959747314453)</td>\n    </tr>\n    <tr>\n      <th>...</th>\n      <td>...</td>\n      <td>...</td>\n      <td>...</td>\n      <td>...</td>\n      <td>...</td>\n      <td>...</td>\n      <td>...</td>\n      <td>...</td>\n      <td>...</td>\n      <td>...</td>\n    </tr>\n    <tr>\n      <th>57</th>\n      <td>Washington, NY</td>\n      <td>13</td>\n      <td>619</td>\n      <td>367</td>\n      <td>51622</td>\n      <td>3.542234</td>\n      <td>(41.78553771972656, -73.69046020507812)</td>\n      <td>43.312377</td>\n      <td>-73.439428</td>\n      <td>POINT (-73.69046020507812 41.78553771972656)</td>\n    </tr>\n    <tr>\n      <th>58</th>\n      <td>Wayne, NY</td>\n      <td>58</td>\n      <td>1848</td>\n      <td>760</td>\n      <td>86857</td>\n      <td>7.631579</td>\n      <td>(42.4705810546875, -77.10536193847656)</td>\n      <td>43.458758</td>\n      <td>-77.063164</td>\n      <td>POINT (-77.10536193847656 42.4705810546875)</td>\n    </tr>\n    <tr>\n      <th>59</th>\n      <td>Westchester, NY</td>\n      <td>571</td>\n      <td>61111</td>\n      <td>9593</td>\n      <td>1277979</td>\n      <td>5.952257</td>\n      <td>(40.840030670166016, -73.84453582763672)</td>\n      <td>41.152686</td>\n      <td>-73.745753</td>\n      <td>POINT (-73.84453582763672 40.84003067016602)</td>\n    </tr>\n    <tr>\n      <th>60</th>\n      <td>Wyoming, NY</td>\n      <td>35</td>\n      <td>974</td>\n      <td>355</td>\n      <td>37879</td>\n      <td>9.859155</td>\n      <td>(42.8284797668457, -78.08788299560547)</td>\n      <td>42.701363</td>\n      <td>-78.228567</td>\n      <td>POINT (-78.08788299560547 42.8284797668457)</td>\n    </tr>\n    <tr>\n      <th>61</th>\n      <td>Yates, NY</td>\n      <td>8</td>\n      <td>386</td>\n      <td>104</td>\n      <td>18616</td>\n      <td>7.692308</td>\n      <td>(43.321258544921875, -78.38877868652344)</td>\n      <td>42.638237</td>\n      <td>-77.104324</td>\n      <td>POINT (-78.38877868652344 43.32125854492188)</td>\n    </tr>\n  </tbody>\n</table>\n<p>62 rows × 10 columns</p>\n</div>"
     },
     "metadata": {},
     "execution_count": 4
    }
   ],
   "source": [
    "merge = pd.merge(df_stats, df_coords, left_on='County', right_on='County')\n",
    "\n",
    "merge"
   ]
  }
 ]
}